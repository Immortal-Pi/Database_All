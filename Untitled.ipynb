{
 "cells": [
  {
   "cell_type": "markdown",
   "id": "56785fbf-219e-45d4-96b7-3d7f09560561",
   "metadata": {},
   "source": [
    "# mongo db connection "
   ]
  },
  {
   "cell_type": "code",
   "execution_count": 1,
   "id": "bc4978c0-657d-4529-be42-d3cd4e5983c6",
   "metadata": {},
   "outputs": [],
   "source": [
    "from pymongo import MongoClient\n",
    "client=MongoClient()"
   ]
  },
  {
   "cell_type": "code",
   "execution_count": 2,
   "id": "17aa5f8e-4daa-419d-a9c9-bde688ff0ea4",
   "metadata": {},
   "outputs": [],
   "source": [
    "client=MongoClient('localhost',27017)"
   ]
  },
  {
   "cell_type": "code",
   "execution_count": 3,
   "id": "53b87161-77ac-4fb7-baa4-a38f9f347b0b",
   "metadata": {},
   "outputs": [],
   "source": [
    "mydatabase=client.name_of_my_database"
   ]
  },
  {
   "cell_type": "code",
   "execution_count": 4,
   "id": "ad54f59c-86f5-42e9-9389-98f4d999ef03",
   "metadata": {},
   "outputs": [],
   "source": [
    "db=client['local']\n",
    "collection =db['employee']"
   ]
  },
  {
   "cell_type": "code",
   "execution_count": 32,
   "id": "c6f45c4b-432b-4c15-aa27-f1d591b0a4f1",
   "metadata": {},
   "outputs": [
    {
     "data": {
      "text/plain": [
       "['employee', 'mycollection', 'startup_log']"
      ]
     },
     "execution_count": 32,
     "metadata": {},
     "output_type": "execute_result"
    }
   ],
   "source": [
    "db.list_collection_names()"
   ]
  },
  {
   "cell_type": "code",
   "execution_count": 33,
   "id": "36189803-6fa8-47b5-a3ff-d3c7607c976e",
   "metadata": {},
   "outputs": [
    {
     "name": "stdout",
     "output_type": "stream",
     "text": [
      "{'name': 'amruth pai', 'email': '26.amruth@gmail.com'}\n"
     ]
    }
   ],
   "source": [
    "user= {'name':'amruth pai',\n",
    "       'email':'26.amruth@gmail.com',\n",
    "      }\n",
    "print(user)"
   ]
  },
  {
   "cell_type": "code",
   "execution_count": 23,
   "id": "fd677852-09b2-40cb-80b7-ec56d9924cbd",
   "metadata": {},
   "outputs": [],
   "source": [
    "inserted_record=collection.insert_one(user)"
   ]
  },
  {
   "cell_type": "code",
   "execution_count": 24,
   "id": "43ffcc23-d610-420b-bbdc-53bb482bdf69",
   "metadata": {},
   "outputs": [
    {
     "data": {
      "text/plain": [
       "ObjectId('67228b5dbd04623af32a2af6')"
      ]
     },
     "execution_count": 24,
     "metadata": {},
     "output_type": "execute_result"
    }
   ],
   "source": [
    "inserted_record.inserted_id"
   ]
  },
  {
   "cell_type": "code",
   "execution_count": 25,
   "id": "64cc58f8-6b3c-46ff-b27c-1338eb1df777",
   "metadata": {},
   "outputs": [
    {
     "name": "stdout",
     "output_type": "stream",
     "text": [
      "[{'name': 'sharath prabhu', 'email': '26.amruth@gmail.com'}, {'name': 'akshath pai', 'email': '23.amruth@gmail.com'}, {'name': 'subhodh', 'email': '24.amruth@gmail.com'}]\n"
     ]
    }
   ],
   "source": [
    "user= [{'name':'sharath prabhu',\n",
    "       'email':'26.amruth@gmail.com',\n",
    "      },\n",
    "     {'name':'akshath pai',\n",
    "       'email':'23.amruth@gmail.com',\n",
    "      },\n",
    " {'name':'subhodh',\n",
    "       'email':'24.amruth@gmail.com',\n",
    "      }]\n",
    "print(user)"
   ]
  },
  {
   "cell_type": "code",
   "execution_count": 26,
   "id": "de6633ae-807c-49a0-a1d2-37d7a0b36ea0",
   "metadata": {},
   "outputs": [],
   "source": [
    "inserted_records=collection.insert_many(user)"
   ]
  },
  {
   "cell_type": "code",
   "execution_count": 27,
   "id": "57441608-107f-4208-b28d-811943c32d94",
   "metadata": {},
   "outputs": [
    {
     "data": {
      "text/plain": [
       "InsertManyResult([ObjectId('67228c3cbd04623af32a2af7'), ObjectId('67228c3cbd04623af32a2af8'), ObjectId('67228c3cbd04623af32a2af9')], acknowledged=True)"
      ]
     },
     "execution_count": 27,
     "metadata": {},
     "output_type": "execute_result"
    }
   ],
   "source": [
    "inserted_records"
   ]
  },
  {
   "cell_type": "code",
   "execution_count": null,
   "id": "47d8ebbb-952a-4c4a-a73e-87327cc1bfb2",
   "metadata": {},
   "outputs": [],
   "source": []
  }
 ],
 "metadata": {
  "kernelspec": {
   "display_name": "tf",
   "language": "python",
   "name": "tf"
  },
  "language_info": {
   "codemirror_mode": {
    "name": "ipython",
    "version": 3
   },
   "file_extension": ".py",
   "mimetype": "text/x-python",
   "name": "python",
   "nbconvert_exporter": "python",
   "pygments_lexer": "ipython3",
   "version": "3.9.18"
  }
 },
 "nbformat": 4,
 "nbformat_minor": 5
}
