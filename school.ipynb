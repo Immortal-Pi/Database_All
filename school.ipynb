{
 "cells": [
  {
   "cell_type": "markdown",
   "metadata": {},
   "source": [
    "# assignment "
   ]
  },
  {
   "cell_type": "code",
   "execution_count": 73,
   "metadata": {},
   "outputs": [],
   "source": [
    "import pymongo\n",
    "from datetime import datetime\n",
    "import json\n"
   ]
  },
  {
   "cell_type": "markdown",
   "metadata": {},
   "source": [
    "# setting up mongoDB"
   ]
  },
  {
   "cell_type": "code",
   "execution_count": 74,
   "metadata": {},
   "outputs": [],
   "source": [
    "client=pymongo.MongoClient('localhost',27017)"
   ]
  },
  {
   "cell_type": "code",
   "execution_count": 75,
   "metadata": {},
   "outputs": [],
   "source": [
    "mydatabase=client.list_database_names"
   ]
  },
  {
   "cell_type": "code",
   "execution_count": 76,
   "metadata": {},
   "outputs": [],
   "source": [
    "db=client['schoolDB']\n",
    "collection=db['student']"
   ]
  },
  {
   "cell_type": "markdown",
   "metadata": {},
   "source": [
    "# 3. CRUD Operations"
   ]
  },
  {
   "cell_type": "code",
   "execution_count": 77,
   "metadata": {},
   "outputs": [],
   "source": [
    "students=[\n",
    "  {  \"_id\": 100, \n",
    "    \"name\": \"Amruth Pai\", \n",
    "    \"age\": 27, \n",
    "    \"grade\": 'A', \n",
    "    \"subjects\": ['BA with R','RDBMS','Advance Stats','Data viz'], \n",
    "    \"enrollment_date\": datetime(2024,11,12)\n",
    "  },\n",
    " {  \"_id\": 101, \n",
    "    \"name\": \"Sharath Prabhu\", \n",
    "    \"age\": 27, \n",
    "    \"grade\": 'B', \n",
    "    \"subjects\": ['AI and cloud','RDBMS','Advance Stats','Data viz'], \n",
    "    \"enrollment_date\": datetime(2024,5,12)\n",
    "  },\n",
    "   {  \"_id\": 102, \n",
    "    \"name\": \"Akshath Pai\", \n",
    "    \"age\": 26, \n",
    "    \"grade\": 'A', \n",
    "    \"subjects\": ['control unit','CAAD','Advance Stats','Data viz'], \n",
    "    \"enrollment_date\": datetime(2024,4,12)\n",
    "  },\n",
    "   {  \"_id\": 103, \n",
    "    \"name\": \"Subhodh Kalley\", \n",
    "    \"age\": 27, \n",
    "    \"grade\": 'C', \n",
    "    \"subjects\": ['basic stats','data science','Advance Stats','Data viz'], \n",
    "    \"enrollment_date\": datetime(2023,11,12)\n",
    "  },\n",
    "   {  \"_id\": 104, \n",
    "    \"name\": \"Chiranth \", \n",
    "    \"age\": 27, \n",
    "    \"grade\": 'A', \n",
    "    \"subjects\": ['mircoprocessors','RDBMS','Advance Stats','Data viz'], \n",
    "    \"enrollment_date\": datetime(2024,1,12)\n",
    "  },\n",
    "\n",
    "]"
   ]
  },
  {
   "cell_type": "code",
   "execution_count": 78,
   "metadata": {},
   "outputs": [
    {
     "data": {
      "text/plain": [
       "DeleteResult({'n': 4, 'ok': 1.0}, acknowledged=True)"
      ]
     },
     "execution_count": 78,
     "metadata": {},
     "output_type": "execute_result"
    }
   ],
   "source": [
    "# to delete records in a collection \n",
    "collection.delete_many({})"
   ]
  },
  {
   "cell_type": "code",
   "execution_count": 79,
   "metadata": {},
   "outputs": [
    {
     "data": {
      "text/plain": [
       "InsertManyResult([100, 101, 102, 103, 104], acknowledged=True)"
      ]
     },
     "execution_count": 79,
     "metadata": {},
     "output_type": "execute_result"
    }
   ],
   "source": [
    "# Q1 insert students to collection\n",
    "insert_record=collection.insert_many(students)\n",
    "insert_record\n"
   ]
  },
  {
   "cell_type": "code",
   "execution_count": 80,
   "metadata": {},
   "outputs": [
    {
     "data": {
      "text/plain": [
       "[{'_id': 100,\n",
       "  'name': 'Amruth Pai',\n",
       "  'age': 27,\n",
       "  'grade': 'A',\n",
       "  'subjects': ['BA with R', 'RDBMS', 'Advance Stats', 'Data viz'],\n",
       "  'enrollment_date': datetime.datetime(2024, 11, 12, 0, 0)},\n",
       " {'_id': 101,\n",
       "  'name': 'Sharath Prabhu',\n",
       "  'age': 27,\n",
       "  'grade': 'B',\n",
       "  'subjects': ['AI and cloud', 'RDBMS', 'Advance Stats', 'Data viz'],\n",
       "  'enrollment_date': datetime.datetime(2024, 5, 12, 0, 0)},\n",
       " {'_id': 102,\n",
       "  'name': 'Akshath Pai',\n",
       "  'age': 26,\n",
       "  'grade': 'A',\n",
       "  'subjects': ['control unit', 'CAAD', 'Advance Stats', 'Data viz'],\n",
       "  'enrollment_date': datetime.datetime(2024, 4, 12, 0, 0)},\n",
       " {'_id': 103,\n",
       "  'name': 'Subhodh Kalley',\n",
       "  'age': 27,\n",
       "  'grade': 'C',\n",
       "  'subjects': ['basic stats', 'data science', 'Advance Stats', 'Data viz'],\n",
       "  'enrollment_date': datetime.datetime(2023, 11, 12, 0, 0)},\n",
       " {'_id': 104,\n",
       "  'name': 'Chiranth ',\n",
       "  'age': 27,\n",
       "  'grade': 'A',\n",
       "  'subjects': ['mircoprocessors', 'RDBMS', 'Advance Stats', 'Data viz'],\n",
       "  'enrollment_date': datetime.datetime(2024, 1, 12, 0, 0)}]"
      ]
     },
     "execution_count": 80,
     "metadata": {},
     "output_type": "execute_result"
    }
   ],
   "source": [
    "#2 Fetch all students \n",
    "students_info=collection.find({})\n",
    "students"
   ]
  },
  {
   "cell_type": "code",
   "execution_count": 81,
   "metadata": {},
   "outputs": [
    {
     "data": {
      "text/plain": [
       "UpdateResult({'n': 1, 'nModified': 1, 'ok': 1.0, 'updatedExisting': True}, acknowledged=True)"
      ]
     },
     "execution_count": 81,
     "metadata": {},
     "output_type": "execute_result"
    }
   ],
   "source": [
    "#3 update details \n",
    "\n",
    "#update one record \n",
    "update_log=collection.update_one(\n",
    "        {'name':'Amruth Pai'}, #filter \n",
    "        { '$set':{'enrollment_date':datetime(2021,11,12)}} #upate operation\n",
    ");\n",
    "update_log"
   ]
  },
  {
   "cell_type": "code",
   "execution_count": 82,
   "metadata": {},
   "outputs": [
    {
     "data": {
      "text/plain": [
       "UpdateResult({'n': 4, 'nModified': 4, 'ok': 1.0, 'updatedExisting': True}, acknowledged=True)"
      ]
     },
     "execution_count": 82,
     "metadata": {},
     "output_type": "execute_result"
    }
   ],
   "source": [
    "#update many records \n",
    "update_log=collection.update_many(\n",
    "    {'age':{'$gte':27}},\n",
    "    {'$inc':{'age':-1}}\n",
    ")\n",
    "update_log"
   ]
  },
  {
   "cell_type": "code",
   "execution_count": 83,
   "metadata": {},
   "outputs": [
    {
     "data": {
      "text/plain": [
       "DeleteResult({'n': 1, 'ok': 1.0}, acknowledged=True)"
      ]
     },
     "execution_count": 83,
     "metadata": {},
     "output_type": "execute_result"
    }
   ],
   "source": [
    "#Q4: Remove a student from the database using their _id.\n",
    "delete_log=collection.delete_one(\n",
    "    {'_id':104}\n",
    ")\n",
    "delete_log"
   ]
  },
  {
   "cell_type": "code",
   "execution_count": 84,
   "metadata": {},
   "outputs": [
    {
     "name": "stdout",
     "output_type": "stream",
     "text": [
      "Grade: A, Count: 2\n",
      "Grade: B, Count: 1\n",
      "Grade: C, Count: 1\n"
     ]
    }
   ],
   "source": [
    "#Q5 Count students by grade and display results \n",
    "pipeline=[\n",
    "    {'$group':{'_id':'$grade','count':{'$sum':1}}}, #group by grade and count\n",
    "    {'$sort':{'_id':1}} #alphabetical sort\n",
    "]\n",
    "\n",
    "result=collection.aggregate(pipeline)\n",
    "for res in result:\n",
    "    print(f\"Grade: {res['_id']}, Count: {res['count']}\")"
   ]
  },
  {
   "cell_type": "code",
   "execution_count": 85,
   "metadata": {},
   "outputs": [
    {
     "data": {
      "text/plain": [
       "InsertManyResult([1, 2, 3, 4, 5], acknowledged=True)"
      ]
     },
     "execution_count": 85,
     "metadata": {},
     "output_type": "execute_result"
    }
   ],
   "source": [
    "#Q6 create a seperate subject collection \n",
    "collection2=db['subjects']\n",
    "collection2.delete_many({})\n",
    "subjects=[\n",
    "    {'_id':1,'name':'Advance Statistics'},\n",
    "    {'_id':2,'name':'Business Analytics with R'},\n",
    "    {'_id':3,'name':'Data visualization'},\n",
    "    {'_id':4,'name':'Database Foundation'},\n",
    "    {'_id':5,'name':'Applied ML'},\n",
    "]\n",
    "subjects_log=collection2.insert_many(subjects)\n",
    "subjects_log"
   ]
  },
  {
   "cell_type": "code",
   "execution_count": 86,
   "metadata": {},
   "outputs": [
    {
     "data": {
      "text/plain": [
       "UpdateResult({'n': 1, 'nModified': 1, 'ok': 1.0, 'updatedExisting': True}, acknowledged=True)"
      ]
     },
     "execution_count": 86,
     "metadata": {},
     "output_type": "execute_result"
    }
   ],
   "source": [
    "#create student collection with subject references\n",
    "# delete attribute\n",
    "# collection.update_many(\n",
    "#     {},\n",
    "#     {'$unset':{'subjects':''}}\n",
    "\n",
    "#update attribute name\n",
    "collection.update_many(\n",
    "    {},\n",
    "    {'$rename':{'subjects':'subject_ids'}}\n",
    ")\n",
    "\n",
    "# update all the subjects with ids\n",
    "collection.update_one(\n",
    "    {'_id':100},\n",
    "    {'$set':{'subject_ids':[1,2,3]}}\n",
    ")\n",
    "collection.update_one(\n",
    "    {'_id':101},\n",
    "    {'$set':{'subject_ids':[2,3]}}\n",
    ")\n",
    "collection.update_one(\n",
    "    {'_id':102},\n",
    "    {'$set':{'subject_ids':[1,4]}}\n",
    ")\n",
    "\n",
    "collection.update_one(\n",
    "    {'_id':103},\n",
    "    {'$set':{'subject_ids':[4,3]}}\n",
    ")"
   ]
  },
  {
   "cell_type": "code",
   "execution_count": 87,
   "metadata": {},
   "outputs": [
    {
     "name": "stdout",
     "output_type": "stream",
     "text": [
      "{'_id': 100, 'name': 'Amruth Pai', 'age': 26, 'grade': 'A', 'enrollment_date': datetime.datetime(2021, 11, 12, 0, 0), 'subject_ids': [1, 2, 3]}\n",
      "{'_id': 101, 'name': 'Sharath Prabhu', 'age': 26, 'grade': 'B', 'enrollment_date': datetime.datetime(2024, 5, 12, 0, 0), 'subject_ids': [2, 3]}\n",
      "{'_id': 102, 'name': 'Akshath Pai', 'age': 26, 'grade': 'A', 'enrollment_date': datetime.datetime(2024, 4, 12, 0, 0), 'subject_ids': [1, 4]}\n",
      "{'_id': 103, 'name': 'Subhodh Kalley', 'age': 26, 'grade': 'C', 'enrollment_date': datetime.datetime(2023, 11, 12, 0, 0), 'subject_ids': [4, 3]}\n"
     ]
    }
   ],
   "source": [
    "students_updated=collection.find({})\n",
    "for student in students_updated:\n",
    "    print(student)"
   ]
  },
  {
   "cell_type": "code",
   "execution_count": 89,
   "metadata": {},
   "outputs": [
    {
     "name": "stdout",
     "output_type": "stream",
     "text": [
      "{\n",
      "    \"_id\": 100,\n",
      "    \"name\": \"Amruth Pai\",\n",
      "    \"age\": 26,\n",
      "    \"grade\": \"A\",\n",
      "    \"enrollment_date\": \"2021-11-12 00:00:00\",\n",
      "    \"subject_ids\": [\n",
      "        1,\n",
      "        2,\n",
      "        3\n",
      "    ],\n",
      "    \"subject_details\": [\n",
      "        {\n",
      "            \"_id\": 3,\n",
      "            \"name\": \"Data visualization\"\n",
      "        },\n",
      "        {\n",
      "            \"_id\": 2,\n",
      "            \"name\": \"Business Analytics with R\"\n",
      "        },\n",
      "        {\n",
      "            \"_id\": 1,\n",
      "            \"name\": \"Advance Statistics\"\n",
      "        }\n",
      "    ]\n",
      "}\n",
      "{\n",
      "    \"_id\": 101,\n",
      "    \"name\": \"Sharath Prabhu\",\n",
      "    \"age\": 26,\n",
      "    \"grade\": \"B\",\n",
      "    \"enrollment_date\": \"2024-05-12 00:00:00\",\n",
      "    \"subject_ids\": [\n",
      "        2,\n",
      "        3\n",
      "    ],\n",
      "    \"subject_details\": [\n",
      "        {\n",
      "            \"_id\": 2,\n",
      "            \"name\": \"Business Analytics with R\"\n",
      "        },\n",
      "        {\n",
      "            \"_id\": 3,\n",
      "            \"name\": \"Data visualization\"\n",
      "        }\n",
      "    ]\n",
      "}\n",
      "{\n",
      "    \"_id\": 102,\n",
      "    \"name\": \"Akshath Pai\",\n",
      "    \"age\": 26,\n",
      "    \"grade\": \"A\",\n",
      "    \"enrollment_date\": \"2024-04-12 00:00:00\",\n",
      "    \"subject_ids\": [\n",
      "        1,\n",
      "        4\n",
      "    ],\n",
      "    \"subject_details\": [\n",
      "        {\n",
      "            \"_id\": 1,\n",
      "            \"name\": \"Advance Statistics\"\n",
      "        },\n",
      "        {\n",
      "            \"_id\": 4,\n",
      "            \"name\": \"Database Foundation\"\n",
      "        }\n",
      "    ]\n",
      "}\n",
      "{\n",
      "    \"_id\": 103,\n",
      "    \"name\": \"Subhodh Kalley\",\n",
      "    \"age\": 26,\n",
      "    \"grade\": \"C\",\n",
      "    \"enrollment_date\": \"2023-11-12 00:00:00\",\n",
      "    \"subject_ids\": [\n",
      "        4,\n",
      "        3\n",
      "    ],\n",
      "    \"subject_details\": [\n",
      "        {\n",
      "            \"_id\": 4,\n",
      "            \"name\": \"Database Foundation\"\n",
      "        },\n",
      "        {\n",
      "            \"_id\": 3,\n",
      "            \"name\": \"Data visualization\"\n",
      "        }\n",
      "    ]\n",
      "}\n"
     ]
    }
   ],
   "source": [
    "#Q7 loopup to join subjects with students \n",
    "\n",
    "lookup_log=collection.aggregate(\n",
    "    [\n",
    "        {\n",
    "            '$lookup':{\n",
    "                'from':'subjects',\n",
    "                'localField':'subject_ids',\n",
    "                'foreignField':'_id',\n",
    "                'as':'subject_details'\n",
    "            }\n",
    "        }\n",
    "    ]\n",
    ")\n",
    "for data in lookup_log:\n",
    "    print(json.dumps(data,default=str,indent=4))\n"
   ]
  },
  {
   "cell_type": "code",
   "execution_count": null,
   "metadata": {},
   "outputs": [],
   "source": []
  }
 ],
 "metadata": {
  "kernelspec": {
   "display_name": "tf",
   "language": "python",
   "name": "tf"
  },
  "language_info": {
   "codemirror_mode": {
    "name": "ipython",
    "version": 3
   },
   "file_extension": ".py",
   "mimetype": "text/x-python",
   "name": "python",
   "nbconvert_exporter": "python",
   "pygments_lexer": "ipython3",
   "version": "3.9.18"
  }
 },
 "nbformat": 4,
 "nbformat_minor": 2
}
