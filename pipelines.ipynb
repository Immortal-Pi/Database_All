{
 "cells": [
  {
   "cell_type": "markdown",
   "metadata": {},
   "source": [
    "# create pipelines and aggregate function"
   ]
  },
  {
   "cell_type": "code",
   "execution_count": 8,
   "metadata": {},
   "outputs": [],
   "source": [
    "import pymongo\n",
    "from datetime import datetime\n",
    "import json"
   ]
  },
  {
   "cell_type": "markdown",
   "metadata": {},
   "source": [
    "# insert data "
   ]
  },
  {
   "cell_type": "code",
   "execution_count": 3,
   "metadata": {},
   "outputs": [],
   "source": [
    "client=pymongo.MongoClient('localhost',27017)\n"
   ]
  },
  {
   "cell_type": "code",
   "execution_count": 179,
   "metadata": {},
   "outputs": [
    {
     "data": {
      "text/plain": [
       "InsertManyResult([131, 134, 136, 137, 138, 139, 140, 141, 142, 143, 144, 146, 147, 149, 150, 152, 153, 154, 155, 156, 157, 159, 160, 161, 162, 163, 164, 165, 166, 168, 170, 171, 175, 179, 180, 184, 185, 188, 189, 191, 192, 194, 195, 196, 199, 200, 100, 101, 102, 104, 105, 106, 107, 110, 112, 113, 115, 116, 117, 118, 119, 120, 121, 122, 123, 124, 125, 126, 127], acknowledged=True)"
      ]
     },
     "execution_count": 179,
     "metadata": {},
     "output_type": "execute_result"
    }
   ],
   "source": [
    "# load data to database\n",
    "db=client['library']\n",
    "collection=db['authors']\n",
    "collection.delete_many({})\n",
    "with open('data/authors.json','r') as f:\n",
    "    file=json.load(f)\n",
    "collection.insert_many(file)\n",
    "\n"
   ]
  },
  {
   "cell_type": "code",
   "execution_count": 14,
   "metadata": {},
   "outputs": [
    {
     "data": {
      "text/plain": [
       "InsertManyResult([1, 2, 3, 4, 5, 6, 7, 8, 9, 10, 11, 12, 13, 14, 15, 16, 17, 18, 19, 20, 21, 22, 23, 24, 25, 26, 27, 28, 29, 30, 31, 32, 33, 34, 35, 36, 37, 38, 39, 40, 41, 42, 43, 44, 45, 46, 47, 48, 49, 50, 51, 52, 53, 54, 55, 56, 57, 58, 59, 60, 61, 62, 63, 64, 65, 66, 67, 68, 69, 70, 71, 72, 73, 74, 75, 76, 77, 78, 79, 80, 81, 82, 83, 84, 85, 86, 87, 88, 89, 90, 91, 92, 93, 94, 95, 96, 97, 98, 99, 100], acknowledged=True)"
      ]
     },
     "execution_count": 14,
     "metadata": {},
     "output_type": "execute_result"
    }
   ],
   "source": [
    "collection=db['users']\n",
    "\n",
    "with open('data/users.json','r') as f:\n",
    "    file=json.load(f)\n",
    "collection.insert_many(file)\n",
    "\n",
    "collection=db['books']\n",
    "\n",
    "with open('data/books.json','r') as f:\n",
    "    file=json.load(f)\n",
    "collection.insert_many(file)"
   ]
  },
  {
   "cell_type": "markdown",
   "metadata": {},
   "source": [
    "# regex"
   ]
  },
  {
   "cell_type": "code",
   "execution_count": 124,
   "metadata": {},
   "outputs": [
    {
     "name": "stdout",
     "output_type": "stream",
     "text": [
      "{'_id': ObjectId('67349ae5fb1a3fd2db1dca50'), 'index': 1, 'name': 'Person 1', 'isActive': False, 'registered': '2023-02-04 10:30:00', 'age': 21, 'gender': 'female', 'eyeColor': 'green', 'favoriteFruit': 'banana', 'company': {'title': 'Company 1', 'email': 'person1@company1.com', 'phone': '+1 (123) 457-7891', 'location': {'country': 'USA', 'address': '100 Main Street'}}, 'tags': ['tag1', 'tag2', 'tag3']}\n",
      "{'_id': ObjectId('67349ae5fb1a3fd2db1dca51'), 'index': 2, 'name': 'Person 2', 'isActive': True, 'registered': '2023-03-07 10:30:00', 'age': 22, 'gender': 'male', 'eyeColor': 'brown', 'favoriteFruit': 'orange', 'company': {'title': 'Company 2', 'email': 'person2@company2.com', 'phone': '+1 (123) 458-7892', 'location': {'country': 'USA', 'address': '200 Main Street'}}, 'tags': ['tag2', 'tag3', 'tag4']}\n",
      "{'_id': ObjectId('67349ae5fb1a3fd2db1dca52'), 'index': 3, 'name': 'Person 3', 'isActive': False, 'registered': '2023-04-10 10:30:00', 'age': 23, 'gender': 'female', 'eyeColor': 'hazel', 'favoriteFruit': 'grape', 'company': {'title': 'Company 3', 'email': 'person3@company3.com', 'phone': '+1 (123) 459-7893', 'location': {'country': 'USA', 'address': '300 Main Street'}}, 'tags': ['tag3', 'tag4', 'tag5']}\n",
      "{'_id': ObjectId('67349ae5fb1a3fd2db1dca53'), 'index': 4, 'name': 'Person 4', 'isActive': True, 'registered': '2023-05-13 10:30:00', 'age': 24, 'gender': 'male', 'eyeColor': 'gray', 'favoriteFruit': 'pineapple', 'company': {'title': 'Company 4', 'email': 'person4@company4.com', 'phone': '+1 (123) 460-7894', 'location': {'country': 'USA', 'address': '400 Main Street'}}, 'tags': ['tag4', 'tag5', 'tag6']}\n",
      "{'_id': ObjectId('67349ae5fb1a3fd2db1dca54'), 'index': 5, 'name': 'Person 5', 'isActive': False, 'registered': '2023-06-16 10:30:00', 'age': 25, 'gender': 'female', 'eyeColor': 'blue', 'favoriteFruit': 'apple', 'company': {'title': 'Company 5', 'email': 'person5@company5.com', 'phone': '+1 (123) 461-7895', 'location': {'country': 'USA', 'address': '500 Main Street'}}, 'tags': ['tag5', 'tag6', 'tag7']}\n",
      "{'_id': ObjectId('67349ae5fb1a3fd2db1dca55'), 'index': 6, 'name': 'Person 6', 'isActive': True, 'registered': '2023-07-19 10:30:00', 'age': 26, 'gender': 'male', 'eyeColor': 'green', 'favoriteFruit': 'banana', 'company': {'title': 'Company 6', 'email': 'person6@company6.com', 'phone': '+1 (123) 462-7896', 'location': {'country': 'USA', 'address': '600 Main Street'}}, 'tags': ['tag6', 'tag7', 'tag8']}\n",
      "{'_id': ObjectId('67349ae5fb1a3fd2db1dca56'), 'index': 7, 'name': 'Person 7', 'isActive': False, 'registered': '2023-08-22 10:30:00', 'age': 27, 'gender': 'female', 'eyeColor': 'brown', 'favoriteFruit': 'orange', 'company': {'title': 'Company 7', 'email': 'person7@company7.com', 'phone': '+1 (123) 463-7897', 'location': {'country': 'USA', 'address': '700 Main Street'}}, 'tags': ['tag7', 'tag8', 'tag9']}\n",
      "{'_id': ObjectId('67349ae5fb1a3fd2db1dca57'), 'index': 8, 'name': 'Person 8', 'isActive': True, 'registered': '2023-09-25 10:30:00', 'age': 28, 'gender': 'male', 'eyeColor': 'hazel', 'favoriteFruit': 'grape', 'company': {'title': 'Company 8', 'email': 'person8@company8.com', 'phone': '+1 (123) 464-7898', 'location': {'country': 'USA', 'address': '800 Main Street'}}, 'tags': ['tag8', 'tag9', 'tag10']}\n",
      "{'_id': ObjectId('67349ae5fb1a3fd2db1dca58'), 'index': 9, 'name': 'Person 9', 'isActive': False, 'registered': '2023-10-28 10:30:00', 'age': 29, 'gender': 'female', 'eyeColor': 'gray', 'favoriteFruit': 'pineapple', 'company': {'title': 'Company 9', 'email': 'person9@company9.com', 'phone': '+1 (123) 465-7899', 'location': {'country': 'USA', 'address': '900 Main Street'}}, 'tags': ['tag9', 'tag10', 'tag11']}\n"
     ]
    }
   ],
   "source": [
    "data=collection.find({'company.phone':{'$regex':'^\\+1 \\(\\d{3}\\) \\d{3}-78\\d{2}$'}})\n",
    "for a in data:\n",
    "    print(a)"
   ]
  },
  {
   "cell_type": "markdown",
   "metadata": {},
   "source": [
    "# pipeline\n",
    "[\n",
    "    \n",
    "    {}, stage 1 source\n",
    "    \n",
    "    {}, stage 2 \n",
    "]"
   ]
  },
  {
   "cell_type": "code",
   "execution_count": 32,
   "metadata": {},
   "outputs": [
    {
     "name": "stdout",
     "output_type": "stream",
     "text": [
      "{'_id': False, 'count isActive': 50}\n"
     ]
    }
   ],
   "source": [
    "# how many uses are active\n",
    "collection=db['users']\n",
    "pipeline=[\n",
    "    {'$match':{'gender':'female'}},\n",
    "    {'$group':{'_id':'$isActive','count isActive':{'$sum':1}}}\n",
    "]\n",
    "\n",
    "result=collection.aggregate(pipeline)\n",
    "for data in result:\n",
    "    print(data)"
   ]
  },
  {
   "cell_type": "code",
   "execution_count": null,
   "metadata": {},
   "outputs": [
    {
     "name": "stdout",
     "output_type": "stream",
     "text": [
      "{'_id': 'female', 'averageAge': 70.0}\n",
      "{'_id': 'male', 'averageAge': 71.0}\n"
     ]
    }
   ],
   "source": [
    "#what is the average age of all users/gender\n",
    "collection=db['users']\n",
    "pipeline=[\n",
    "    {'$group':{'_id':'$gender','averageAge':{'$avg':'$age'}}}\n",
    "\n",
    "]\n",
    "result=collection.aggregate(pipeline)\n",
    "for r in result:\n",
    "    print(r)"
   ]
  },
  {
   "cell_type": "code",
   "execution_count": null,
   "metadata": {},
   "outputs": [
    {
     "name": "stdout",
     "output_type": "stream",
     "text": [
      "{'_id': 'banana', 'count': 20}\n",
      "{'_id': 'pineapple', 'count': 20}\n"
     ]
    }
   ],
   "source": [
    "# list the top 2 common favorute fruits among users\n",
    "pipeline=[\n",
    "    {'$group':{'_id':'$favoriteFruit','count':{'$sum':1}}},\n",
    "    {'$sort':{'count':-1}},\n",
    "    {'$limit':2}\n",
    "]\n",
    "result=collection.aggregate(pipeline)\n",
    "for r in result:\n",
    "    print(r)"
   ]
  },
  {
   "cell_type": "code",
   "execution_count": 57,
   "metadata": {},
   "outputs": [
    {
     "name": "stdout",
     "output_type": "stream",
     "text": [
      "{'_id': 'female', 'count': 50}\n",
      "{'_id': 'male', 'count': 50}\n"
     ]
    }
   ],
   "source": [
    "# find the total number of males and females \n",
    "pipeline=[\n",
    "    {'$group':{'_id':'$gender','count':{'$sum':1}}}\n",
    "]\n",
    "result=collection.aggregate(pipeline)\n",
    "for r in result:\n",
    "    print(r)"
   ]
  },
  {
   "cell_type": "code",
   "execution_count": 68,
   "metadata": {},
   "outputs": [
    {
     "name": "stdout",
     "output_type": "stream",
     "text": [
      "{'_id': 'USA', 'user_count': 100}\n"
     ]
    }
   ],
   "source": [
    "# which country has the highest number of registered user \n",
    "pipeline=[\n",
    "    {'$group':{'_id':'$company.location.country','user_count':{'$sum':1}}},\n",
    "    {'$sort':{'user_count':-1}},\n",
    "    {'$limit':1}\n",
    "]\n",
    "result=collection.aggregate(pipeline)\n",
    "for r in result:\n",
    "    print(r)"
   ]
  },
  {
   "cell_type": "code",
   "execution_count": 114,
   "metadata": {},
   "outputs": [
    {
     "name": "stdout",
     "output_type": "stream",
     "text": [
      "blue \n",
      "\n",
      "brown \n",
      "\n",
      "gray \n",
      "\n",
      "green \n",
      "\n",
      "hazel \n",
      "\n",
      "blue\n",
      "brown\n",
      "gray\n",
      "green\n",
      "hazel\n"
     ]
    }
   ],
   "source": [
    "# list the unique eyecolor in the collection\n",
    "pipeline=[\n",
    "    {'$unique':'$eyeColor'}\n",
    "]\n",
    "result=collection.distinct('eyeColor')\n",
    "for r in result:\n",
    "    print(r,'\\n')\n",
    "\n",
    "# using aggregate function\n",
    "pipeline=[\n",
    "    {'$group':{'_id':'$eyeColor'}},\n",
    "    # {'$project':{'_id':0,'city':'$_id'}}\n",
    "]\n",
    "result=collection.distinct('eyeColor')\n",
    "for r in result:\n",
    "    print(r)"
   ]
  },
  {
   "cell_type": "markdown",
   "metadata": {},
   "source": [
    "# pipelines for array"
   ]
  },
  {
   "cell_type": "code",
   "execution_count": 92,
   "metadata": {},
   "outputs": [
    {
     "name": "stdout",
     "output_type": "stream",
     "text": [
      "{'_id': None, 'average_tag_count': 3.0}\n"
     ]
    }
   ],
   "source": [
    "# what is the average number of tags per person\n",
    "pipeline=[\n",
    "    {'$unwind':{'path':'$tags'}},\n",
    "    {'$group':{'_id':'$_id','Avg_Tag':{'$sum':1}}},\n",
    "    {'$group':{'_id':None,'average_tag_count':{'$avg':'$Avg_Tag'}}}\n",
    "]\n",
    "result=collection.aggregate(pipeline)\n",
    "for r in result:\n",
    "    print(r)"
   ]
  },
  {
   "cell_type": "code",
   "execution_count": 95,
   "metadata": {},
   "outputs": [
    {
     "name": "stdout",
     "output_type": "stream",
     "text": [
      "{'_id': None, 'avg_no_tags': 3.0}\n"
     ]
    }
   ],
   "source": [
    "# method 2 using $size\n",
    "pipeline=[\n",
    "    {'$addFields':{'numberofTags':{\n",
    "        '$size':{'$ifNull':['$tags',[]]}\n",
    "    }}},\n",
    "    {'$group':{'_id':None,'avg_no_tags':{'$avg':'$numberofTags'}}}\n",
    "]\n",
    "result=collection.aggregate(pipeline)\n",
    "for r in result:\n",
    "    print(r)"
   ]
  },
  {
   "cell_type": "markdown",
   "metadata": {},
   "source": [
    "# match and project pipeline"
   ]
  },
  {
   "cell_type": "code",
   "execution_count": 103,
   "metadata": {},
   "outputs": [
    {
     "name": "stdout",
     "output_type": "stream",
     "text": [
      "{'userwithTag20': 3}\n"
     ]
    }
   ],
   "source": [
    "# how many users have tag20 as their tags\n",
    "\n",
    "pipeline=[\n",
    "    {'$match':{'tags':'tag20'}},\n",
    "    {'$count':'userwithTag20'}\n",
    "]\n",
    "result=collection.aggregate(pipeline)\n",
    "for r in result:\n",
    "    print(r)"
   ]
  },
  {
   "cell_type": "code",
   "execution_count": null,
   "metadata": {},
   "outputs": [
    {
     "name": "stdout",
     "output_type": "stream",
     "text": [
      "{'_id': ObjectId('67349ae5fb1a3fd2db1dca56'), 'name': 'Person 7', 'age': 27}\n",
      "{'_id': ObjectId('67349ae5fb1a3fd2db1dca58'), 'name': 'Person 9', 'age': 29}\n"
     ]
    }
   ],
   "source": [
    "# what are the names and age of uses who are inactive and have tag20 as a tag\n",
    "pipeline=[\n",
    "    {'$match':{'tags':'tag9','isActive':False}},\n",
    "    {'$project':{'name':'$name','age':'$age'}}\n",
    "]\n",
    "result=collection.aggregate(pipeline)\n",
    "for r in result:\n",
    "    print(r)"
   ]
  },
  {
   "cell_type": "code",
   "execution_count": 113,
   "metadata": {},
   "outputs": [
    {
     "name": "stdout",
     "output_type": "stream",
     "text": [
      "{'_id': ObjectId('67349ae5fb1a3fd2db1dca57'), 'index': 8, 'name': 'Person 8', 'isActive': True, 'registered': '2023-09-25 10:30:00', 'age': 28, 'gender': 'male', 'eyeColor': 'hazel', 'favoriteFruit': 'grape', 'company': {'title': 'Company 8', 'email': 'person8@company8.com', 'phone': '+1 (123) 464-7898', 'location': {'country': 'USA', 'address': '800 Main Street'}}, 'tags': ['tag8', 'tag9', 'tag10']}\n",
      "{'_id': ObjectId('67349ae5fb1a3fd2db1dca58'), 'index': 9, 'name': 'Person 9', 'isActive': False, 'registered': '2023-10-28 10:30:00', 'age': 29, 'gender': 'female', 'eyeColor': 'gray', 'favoriteFruit': 'pineapple', 'company': {'title': 'Company 9', 'email': 'person9@company9.com', 'phone': '+1 (123) 465-7899', 'location': {'country': 'USA', 'address': '900 Main Street'}}, 'tags': ['tag9', 'tag10', 'tag11']}\n",
      "{'_id': ObjectId('67349ae5fb1a3fd2db1dca59'), 'index': 10, 'name': 'Person 10', 'isActive': True, 'registered': '2023-11-03 10:30:00', 'age': 30, 'gender': 'male', 'eyeColor': 'blue', 'favoriteFruit': 'apple', 'company': {'title': 'Company 10', 'email': 'person10@company10.com', 'phone': '+1 (123) 466-7900', 'location': {'country': 'USA', 'address': '1000 Main Street'}}, 'tags': ['tag10', 'tag11', 'tag12']}\n",
      "{'_id': ObjectId('67349ae5fb1a3fd2db1dca61'), 'index': 18, 'name': 'Person 18', 'isActive': True, 'registered': '2023-07-27 10:30:00', 'age': 38, 'gender': 'male', 'eyeColor': 'hazel', 'favoriteFruit': 'grape', 'company': {'title': 'Company 18', 'email': 'person18@company18.com', 'phone': '+1 (123) 474-7908', 'location': {'country': 'USA', 'address': '1800 Main Street'}}, 'tags': ['tag18', 'tag19', 'tag20']}\n",
      "{'_id': ObjectId('67349ae5fb1a3fd2db1dca62'), 'index': 19, 'name': 'Person 19', 'isActive': False, 'registered': '2023-08-02 10:30:00', 'age': 39, 'gender': 'female', 'eyeColor': 'gray', 'favoriteFruit': 'pineapple', 'company': {'title': 'Company 19', 'email': 'person19@company19.com', 'phone': '+1 (123) 475-7909', 'location': {'country': 'USA', 'address': '1900 Main Street'}}, 'tags': ['tag19', 'tag20', 'tag21']}\n",
      "{'_id': ObjectId('67349ae5fb1a3fd2db1dca63'), 'index': 20, 'name': 'Person 20', 'isActive': True, 'registered': '2023-09-05 10:30:00', 'age': 40, 'gender': 'male', 'eyeColor': 'blue', 'favoriteFruit': 'apple', 'company': {'title': 'Company 20', 'email': 'person20@company20.com', 'phone': '+1 (123) 476-7910', 'location': {'country': 'USA', 'address': '2000 Main Street'}}, 'tags': ['tag20', 'tag21', 'tag22']}\n"
     ]
    }
   ],
   "source": [
    "#using or operator in match \n",
    "pipeline=[\n",
    "    {'$match':{\n",
    "        '$or':[\n",
    "            {'tags':'tag10'},{'tags':'tag20'}\n",
    "        ]\n",
    "    }}\n",
    "]\n",
    "result=collection.aggregate(pipeline)\n",
    "for r in result:\n",
    "    print(r)"
   ]
  },
  {
   "cell_type": "code",
   "execution_count": null,
   "metadata": {},
   "outputs": [
    {
     "name": "stdout",
     "output_type": "stream",
     "text": [
      "{'_id': None, 'count': 9}\n"
     ]
    }
   ],
   "source": [
    "# how many users have a phone ending with -78**\n",
    "pipeline=[\n",
    "    {'$match':{'company.phone':{'$regex':'^\\+1 \\(\\d{3}\\) \\d{3}-78\\d{2}$'}}},\n",
    "    {'$group':{'_id':None,'count':{'$sum':1}}}\n",
    "]\n",
    "result=collection.aggregate(pipeline)\n",
    "for r in result:\n",
    "    print(r)"
   ]
  },
  {
   "cell_type": "code",
   "execution_count": 136,
   "metadata": {},
   "outputs": [
    {
     "name": "stdout",
     "output_type": "stream",
     "text": [
      "{'_id': ObjectId('67349ae5fb1a3fd2db1dcaa2'), 'name': 'Person 83', 'registered': '2023-12-26 10:30:00'}\n",
      "{'_id': ObjectId('67349ae5fb1a3fd2db1dca72'), 'name': 'Person 35', 'registered': '2023-12-22 10:30:00'}\n",
      "{'_id': ObjectId('67349ae5fb1a3fd2db1dca96'), 'name': 'Person 71', 'registered': '2023-12-18 10:30:00'}\n",
      "{'_id': ObjectId('67349ae5fb1a3fd2db1dca66'), 'name': 'Person 23', 'registered': '2023-12-14 10:30:00'}\n"
     ]
    }
   ],
   "source": [
    "#who has registeded the most recently \n",
    "pipeline=[\n",
    "    {'$sort':{'registered':-1}},\n",
    "    {'$limit':4},\n",
    "    {'$project':{'name':'$name','registered':'$registered'}}\n",
    "]\n",
    "result=collection.aggregate(pipeline)\n",
    "for r in result:\n",
    "    print(r)"
   ]
  },
  {
   "cell_type": "code",
   "execution_count": 150,
   "metadata": {},
   "outputs": [
    {
     "name": "stdout",
     "output_type": "stream",
     "text": [
      "{'_id': 'orange', 'users': ['Person 2', 'Person 7', 'Person 12', 'Person 17', 'Person 22', 'Person 27', 'Person 32', 'Person 37', 'Person 42', 'Person 47', 'Person 52', 'Person 57', 'Person 62', 'Person 67', 'Person 72', 'Person 77', 'Person 82', 'Person 87', 'Person 92', 'Person 97']}\n",
      "{'_id': 'banana', 'users': ['Person 1', 'Person 6', 'Person 11', 'Person 16', 'Person 21', 'Person 26', 'Person 31', 'Person 36', 'Person 41', 'Person 46', 'Person 51', 'Person 56', 'Person 61', 'Person 66', 'Person 71', 'Person 76', 'Person 81', 'Person 86', 'Person 91', 'Person 96']}\n",
      "{'_id': 'pineapple', 'users': ['Person 4', 'Person 9', 'Person 14', 'Person 19', 'Person 24', 'Person 29', 'Person 34', 'Person 39', 'Person 44', 'Person 49', 'Person 54', 'Person 59', 'Person 64', 'Person 69', 'Person 74', 'Person 79', 'Person 84', 'Person 89', 'Person 94', 'Person 99']}\n",
      "{'_id': 'apple', 'users': ['Person 5', 'Person 10', 'Person 15', 'Person 20', 'Person 25', 'Person 30', 'Person 35', 'Person 40', 'Person 45', 'Person 50', 'Person 55', 'Person 60', 'Person 65', 'Person 70', 'Person 75', 'Person 80', 'Person 85', 'Person 90', 'Person 95', 'Person 100']}\n",
      "{'_id': 'grape', 'users': ['Person 3', 'Person 8', 'Person 13', 'Person 18', 'Person 23', 'Person 28', 'Person 33', 'Person 38', 'Person 43', 'Person 48', 'Person 53', 'Person 58', 'Person 63', 'Person 68', 'Person 73', 'Person 78', 'Person 83', 'Person 88', 'Person 93', 'Person 98']}\n"
     ]
    }
   ],
   "source": [
    "#categorize users by their favourite fruits\n",
    "pipeline=[\n",
    "    {'$group':{'_id':'$favoriteFruit',\n",
    "    'users':{'$push':'$name'}}}\n",
    "]\n",
    "result=collection.aggregate(pipeline)\n",
    "for r in result:\n",
    "    print(r)"
   ]
  },
  {
   "cell_type": "code",
   "execution_count": 163,
   "metadata": {},
   "outputs": [
    {
     "name": "stdout",
     "output_type": "stream",
     "text": [
      "{'_id': ObjectId('67349ae5fb1a3fd2db1dca58'), 'index': 9, 'name': 'Person 9', 'isActive': False, 'registered': '2023-10-28 10:30:00', 'age': 29, 'gender': 'female', 'eyeColor': 'gray', 'favoriteFruit': 'pineapple', 'company': {'title': 'Company 9', 'email': 'person9@company9.com', 'phone': '+1 (123) 465-7899', 'location': {'country': 'USA', 'address': '900 Main Street'}}, 'tags': ['tag9', 'tag10', 'tag11']}\n"
     ]
    }
   ],
   "source": [
    "#how many users have tag10 as their 2nd tag in the list of tags\n",
    "pipeline=[\n",
    "    {'$match':{'tags.1':'tag10'}},\n",
    "    # {'$count':'matching tags at pos 2'}\n",
    "    \n",
    "]\n",
    "result=collection.aggregate(pipeline)\n",
    "for r in result:\n",
    "    print(r)"
   ]
  },
  {
   "cell_type": "code",
   "execution_count": null,
   "metadata": {},
   "outputs": [
    {
     "name": "stdout",
     "output_type": "stream",
     "text": [
      "{'_id': ObjectId('67349ae5fb1a3fd2db1dca58'), 'index': 9, 'name': 'Person 9', 'isActive': False, 'registered': '2023-10-28 10:30:00', 'age': 29, 'gender': 'female', 'eyeColor': 'gray', 'favoriteFruit': 'pineapple', 'company': {'title': 'Company 9', 'email': 'person9@company9.com', 'phone': '+1 (123) 465-7899', 'location': {'country': 'USA', 'address': '900 Main Street'}}, 'tags': ['tag9', 'tag10', 'tag11']}\n",
      "{'_id': ObjectId('67349ae5fb1a3fd2db1dca59'), 'index': 10, 'name': 'Person 10', 'isActive': True, 'registered': '2023-11-03 10:30:00', 'age': 30, 'gender': 'male', 'eyeColor': 'blue', 'favoriteFruit': 'apple', 'company': {'title': 'Company 10', 'email': 'person10@company10.com', 'phone': '+1 (123) 466-7900', 'location': {'country': 'USA', 'address': '1000 Main Street'}}, 'tags': ['tag10', 'tag11', 'tag12']}\n"
     ]
    }
   ],
   "source": [
    "# find users who have both tag10 and tag 11 as their tags \n",
    "pipeline=[\n",
    "    {'$match':{'$or':[{'tags':'tag10'},{'tags':'tag11'}]}}\n",
    "]\n",
    "result=collection.aggregate(pipeline)\n",
    "# for r in result:\n",
    "#     print(r)\n",
    "\n",
    "# alternative \n",
    "pipeline=[\n",
    "    {'$match':{'tags':{'$all':['tag10','tag11']}}}\n",
    "]\n",
    "result=collection.aggregate(pipeline)\n",
    "for r in result:\n",
    "    print(r)"
   ]
  },
  {
   "cell_type": "code",
   "execution_count": 177,
   "metadata": {},
   "outputs": [
    {
     "name": "stdout",
     "output_type": "stream",
     "text": [
      "{'_id': 'Company 50', 'users count': 1}\n",
      "{'_id': 'Company 42', 'users count': 1}\n",
      "{'_id': 'Company 8', 'users count': 1}\n",
      "{'_id': 'Company 19', 'users count': 1}\n",
      "{'_id': 'Company 47', 'users count': 1}\n",
      "{'_id': 'Company 7', 'users count': 1}\n",
      "{'_id': 'Company 73', 'users count': 1}\n",
      "{'_id': 'Company 45', 'users count': 1}\n",
      "{'_id': 'Company 80', 'users count': 1}\n",
      "{'_id': 'Company 15', 'users count': 1}\n",
      "{'_id': 'Company 96', 'users count': 1}\n",
      "{'_id': 'Company 64', 'users count': 1}\n",
      "{'_id': 'Company 12', 'users count': 1}\n",
      "{'_id': 'Company 26', 'users count': 1}\n",
      "{'_id': 'Company 6', 'users count': 1}\n",
      "{'_id': 'Company 57', 'users count': 1}\n",
      "{'_id': 'Company 2', 'users count': 1}\n",
      "{'_id': 'Company 59', 'users count': 1}\n",
      "{'_id': 'Company 75', 'users count': 1}\n",
      "{'_id': 'Company 77', 'users count': 1}\n",
      "{'_id': 'Company 87', 'users count': 1}\n",
      "{'_id': 'Company 94', 'users count': 1}\n",
      "{'_id': 'Company 98', 'users count': 1}\n",
      "{'_id': 'Company 99', 'users count': 1}\n",
      "{'_id': 'Company 39', 'users count': 1}\n",
      "{'_id': 'Company 78', 'users count': 1}\n",
      "{'_id': 'Company 51', 'users count': 1}\n",
      "{'_id': 'Company 81', 'users count': 1}\n",
      "{'_id': 'Company 5', 'users count': 1}\n",
      "{'_id': 'Company 10', 'users count': 1}\n",
      "{'_id': 'Company 22', 'users count': 1}\n",
      "{'_id': 'Company 72', 'users count': 1}\n",
      "{'_id': 'Company 24', 'users count': 1}\n",
      "{'_id': 'Company 9', 'users count': 1}\n",
      "{'_id': 'Company 86', 'users count': 1}\n",
      "{'_id': 'Company 54', 'users count': 1}\n",
      "{'_id': 'Company 52', 'users count': 1}\n",
      "{'_id': 'Company 3', 'users count': 1}\n",
      "{'_id': 'Company 34', 'users count': 1}\n",
      "{'_id': 'Company 55', 'users count': 1}\n",
      "{'_id': 'Company 82', 'users count': 1}\n",
      "{'_id': 'Company 56', 'users count': 1}\n",
      "{'_id': 'Company 27', 'users count': 1}\n",
      "{'_id': 'Company 83', 'users count': 1}\n",
      "{'_id': 'Company 20', 'users count': 1}\n",
      "{'_id': 'Company 30', 'users count': 1}\n",
      "{'_id': 'Company 37', 'users count': 1}\n",
      "{'_id': 'Company 61', 'users count': 1}\n",
      "{'_id': 'Company 67', 'users count': 1}\n",
      "{'_id': 'Company 60', 'users count': 1}\n",
      "{'_id': 'Company 62', 'users count': 1}\n",
      "{'_id': 'Company 79', 'users count': 1}\n",
      "{'_id': 'Company 41', 'users count': 1}\n",
      "{'_id': 'Company 46', 'users count': 1}\n",
      "{'_id': 'Company 40', 'users count': 1}\n",
      "{'_id': 'Company 14', 'users count': 1}\n",
      "{'_id': 'Company 100', 'users count': 1}\n",
      "{'_id': 'Company 70', 'users count': 1}\n",
      "{'_id': 'Company 95', 'users count': 1}\n",
      "{'_id': 'Company 16', 'users count': 1}\n",
      "{'_id': 'Company 1', 'users count': 1}\n",
      "{'_id': 'Company 49', 'users count': 1}\n",
      "{'_id': 'Company 85', 'users count': 1}\n",
      "{'_id': 'Company 93', 'users count': 1}\n",
      "{'_id': 'Company 23', 'users count': 1}\n",
      "{'_id': 'Company 90', 'users count': 1}\n",
      "{'_id': 'Company 11', 'users count': 1}\n",
      "{'_id': 'Company 53', 'users count': 1}\n",
      "{'_id': 'Company 25', 'users count': 1}\n",
      "{'_id': 'Company 68', 'users count': 1}\n",
      "{'_id': 'Company 74', 'users count': 1}\n",
      "{'_id': 'Company 71', 'users count': 1}\n",
      "{'_id': 'Company 13', 'users count': 1}\n",
      "{'_id': 'Company 31', 'users count': 1}\n",
      "{'_id': 'Company 32', 'users count': 1}\n",
      "{'_id': 'Company 76', 'users count': 1}\n",
      "{'_id': 'Company 29', 'users count': 1}\n",
      "{'_id': 'Company 84', 'users count': 1}\n",
      "{'_id': 'Company 88', 'users count': 1}\n",
      "{'_id': 'Company 43', 'users count': 1}\n",
      "{'_id': 'Company 97', 'users count': 1}\n",
      "{'_id': 'Company 89', 'users count': 1}\n",
      "{'_id': 'Company 21', 'users count': 1}\n",
      "{'_id': 'Company 92', 'users count': 1}\n",
      "{'_id': 'Company 17', 'users count': 1}\n",
      "{'_id': 'Company 63', 'users count': 1}\n",
      "{'_id': 'Company 38', 'users count': 1}\n",
      "{'_id': 'Company 48', 'users count': 1}\n",
      "{'_id': 'Company 66', 'users count': 1}\n",
      "{'_id': 'Company 28', 'users count': 1}\n",
      "{'_id': 'Company 44', 'users count': 1}\n",
      "{'_id': 'Company 65', 'users count': 1}\n",
      "{'_id': 'Company 91', 'users count': 1}\n",
      "{'_id': 'Company 69', 'users count': 1}\n",
      "{'_id': 'Company 36', 'users count': 1}\n",
      "{'_id': 'Company 58', 'users count': 1}\n",
      "{'_id': 'Company 33', 'users count': 1}\n",
      "{'_id': 'Company 4', 'users count': 1}\n",
      "{'_id': 'Company 35', 'users count': 1}\n",
      "{'_id': 'Company 18', 'users count': 1}\n"
     ]
    }
   ],
   "source": [
    "#list all companies located in the USA with their corresponding user counts\n",
    "pipeline=[\n",
    "    {'$match':{'company.location.country':'USA'}},\n",
    "    {'$group':{'_id':'$company.title','users count':{'$sum':+1}}}\n",
    "]\n",
    "result=collection.aggregate(pipeline)\n",
    "for r in result:\n",
    "    print(r)"
   ]
  },
  {
   "cell_type": "markdown",
   "metadata": {},
   "source": [
    "# lookups"
   ]
  },
  {
   "cell_type": "code",
   "execution_count": 185,
   "metadata": {},
   "outputs": [
    {
     "name": "stdout",
     "output_type": "stream",
     "text": [
      "{'_id': 1, 'title': 'Performance indicate', 'author_id': 126, 'genre': 'Mystery', 'author_details': {'_id': 126, 'name': 'Alyssa Vazquez', 'birth_year': 1825}}\n",
      "{'_id': 2, 'title': 'My if less thing', 'author_id': 100, 'genre': 'Mystery', 'author_details': {'_id': 100, 'name': 'William Randall', 'birth_year': 1719}}\n",
      "{'_id': 3, 'title': 'Tax situation what hair', 'author_id': 171, 'genre': 'Classic', 'author_details': {'_id': 171, 'name': 'Patricia Parks', 'birth_year': 1747}}\n",
      "{'_id': 4, 'title': 'Animal around product', 'author_id': 161, 'genre': 'Thriller', 'author_details': {'_id': 161, 'name': 'Brandy Martin', 'birth_year': 1912}}\n",
      "{'_id': 5, 'title': 'Leg amount', 'author_id': 127, 'genre': 'Thriller', 'author_details': {'_id': 127, 'name': 'Rickey Miller', 'birth_year': 1741}}\n",
      "{'_id': 6, 'title': 'Attention north', 'author_id': 192, 'genre': 'Dystopian', 'author_details': {'_id': 192, 'name': 'Kimberly Hernandez', 'birth_year': 1985}}\n",
      "{'_id': 7, 'title': 'Doctor', 'author_id': 165, 'genre': 'Science Fiction', 'author_details': {'_id': 165, 'name': 'Nicholas Burgess', 'birth_year': 1786}}\n",
      "{'_id': 8, 'title': 'Class without sort', 'author_id': 104, 'genre': 'Fantasy', 'author_details': {'_id': 104, 'name': 'Kelly Moore', 'birth_year': 1772}}\n",
      "{'_id': 9, 'title': 'Can option reduce politics', 'author_id': 168, 'genre': 'Romance', 'author_details': {'_id': 168, 'name': 'John Miller', 'birth_year': 1850}}\n",
      "{'_id': 10, 'title': 'Some rise', 'author_id': 184, 'genre': 'Mystery', 'author_details': {'_id': 184, 'name': 'Steven Hale', 'birth_year': 1894}}\n",
      "{'_id': 11, 'title': 'Store child', 'author_id': 180, 'genre': 'Romance', 'author_details': {'_id': 180, 'name': 'Dean Simmons', 'birth_year': 1710}}\n",
      "{'_id': 12, 'title': 'Image must', 'author_id': 115, 'genre': 'Fantasy', 'author_details': {'_id': 115, 'name': 'Jessica Gonzales', 'birth_year': 1992}}\n",
      "{'_id': 13, 'title': 'Professor here', 'author_id': 199, 'genre': 'Thriller', 'author_details': {'_id': 199, 'name': 'Danielle Hartman', 'birth_year': 1785}}\n",
      "{'_id': 14, 'title': 'Still tax onto', 'author_id': 123, 'genre': 'Science Fiction', 'author_details': {'_id': 123, 'name': 'Angela Gray', 'birth_year': 1714}}\n",
      "{'_id': 15, 'title': 'Surface million suggest yourself', 'author_id': 113, 'genre': 'Mystery', 'author_details': {'_id': 113, 'name': 'Kimberly Boyd', 'birth_year': 1733}}\n",
      "{'_id': 16, 'title': 'Property development', 'author_id': 147, 'genre': 'Fantasy', 'author_details': {'_id': 147, 'name': 'Elizabeth Harvey', 'birth_year': 1780}}\n",
      "{'_id': 17, 'title': 'Smile meeting rock', 'author_id': 154, 'genre': 'Fantasy', 'author_details': {'_id': 154, 'name': 'Austin Garrison', 'birth_year': 1892}}\n",
      "{'_id': 18, 'title': 'Indicate site need', 'author_id': 110, 'genre': 'Thriller', 'author_details': {'_id': 110, 'name': 'Patricia Campbell', 'birth_year': 1759}}\n",
      "{'_id': 19, 'title': 'Doctor', 'author_id': 163, 'genre': 'Mystery', 'author_details': {'_id': 163, 'name': 'Tiffany Mcgrath', 'birth_year': 1775}}\n",
      "{'_id': 20, 'title': 'Study food return', 'author_id': 101, 'genre': 'Thriller', 'author_details': {'_id': 101, 'name': 'Aaron Leblanc', 'birth_year': 1911}}\n",
      "{'_id': 21, 'title': 'Responsibility', 'author_id': 168, 'genre': 'Mystery', 'author_details': {'_id': 168, 'name': 'John Miller', 'birth_year': 1850}}\n",
      "{'_id': 22, 'title': 'Than bag', 'author_id': 149, 'genre': 'Thriller', 'author_details': {'_id': 149, 'name': 'Cynthia Fernandez', 'birth_year': 1923}}\n",
      "{'_id': 23, 'title': 'Cost', 'author_id': 105, 'genre': 'Dystopian', 'author_details': {'_id': 105, 'name': 'Garrett Strong', 'birth_year': 1832}}\n",
      "{'_id': 24, 'title': 'Send interesting', 'author_id': 107, 'genre': 'Thriller', 'author_details': {'_id': 107, 'name': 'Jessica Hill', 'birth_year': 1819}}\n",
      "{'_id': 25, 'title': 'Quality eight course fund', 'author_id': 189, 'genre': 'Dystopian', 'author_details': {'_id': 189, 'name': 'Jennifer Donaldson', 'birth_year': 1991}}\n",
      "{'_id': 26, 'title': 'Whose', 'author_id': 140, 'genre': 'Classic', 'author_details': {'_id': 140, 'name': 'Michelle Rice', 'birth_year': 1749}}\n",
      "{'_id': 27, 'title': 'Day', 'author_id': 120, 'genre': 'Classic', 'author_details': {'_id': 120, 'name': 'Thomas Fowler', 'birth_year': 1931}}\n",
      "{'_id': 28, 'title': 'Fine hour public', 'author_id': 142, 'genre': 'Science Fiction', 'author_details': {'_id': 142, 'name': 'Colleen Fowler', 'birth_year': 1836}}\n",
      "{'_id': 29, 'title': 'By billion', 'author_id': 146, 'genre': 'Mystery', 'author_details': {'_id': 146, 'name': 'Jacob Clark', 'birth_year': 1871}}\n",
      "{'_id': 30, 'title': 'She ready song', 'author_id': 124, 'genre': 'Classic', 'author_details': {'_id': 124, 'name': 'Dr. Derrick Choi Jr.', 'birth_year': 1824}}\n",
      "{'_id': 31, 'title': 'Man knowledge why', 'author_id': 175, 'genre': 'Science Fiction', 'author_details': {'_id': 175, 'name': 'Kimberly Mcbride', 'birth_year': 1857}}\n",
      "{'_id': 32, 'title': 'Including choose', 'author_id': 156, 'genre': 'Science Fiction', 'author_details': {'_id': 156, 'name': 'Sara Wilson', 'birth_year': 1769}}\n",
      "{'_id': 33, 'title': 'Bring', 'author_id': 134, 'genre': 'Thriller', 'author_details': {'_id': 134, 'name': 'William Burns', 'birth_year': 1937}}\n",
      "{'_id': 34, 'title': 'Ability day', 'author_id': 157, 'genre': 'Classic', 'author_details': {'_id': 157, 'name': 'Robert Mcdaniel', 'birth_year': 1809}}\n",
      "{'_id': 35, 'title': 'Manage chance', 'author_id': 139, 'genre': 'Dystopian', 'author_details': {'_id': 139, 'name': 'Stephanie Conway', 'birth_year': 1907}}\n",
      "{'_id': 36, 'title': 'Hospital finish customer', 'author_id': 165, 'genre': 'Classic', 'author_details': {'_id': 165, 'name': 'Nicholas Burgess', 'birth_year': 1786}}\n",
      "{'_id': 37, 'title': 'Talk finish treatment', 'author_id': 121, 'genre': 'Fantasy', 'author_details': {'_id': 121, 'name': 'Brandy James', 'birth_year': 1789}}\n",
      "{'_id': 38, 'title': 'Say radio per', 'author_id': 153, 'genre': 'Dystopian', 'author_details': {'_id': 153, 'name': 'Dawn Dean', 'birth_year': 1871}}\n",
      "{'_id': 39, 'title': 'Week head system', 'author_id': 117, 'genre': 'Mystery', 'author_details': {'_id': 117, 'name': 'Jamie Brooks', 'birth_year': 1928}}\n",
      "{'_id': 40, 'title': 'Including maintain fact', 'author_id': 200, 'genre': 'Dystopian', 'author_details': {'_id': 200, 'name': 'Chelsea Newman', 'birth_year': 1893}}\n",
      "{'_id': 41, 'title': 'Someone', 'author_id': 164, 'genre': 'Dystopian', 'author_details': {'_id': 164, 'name': 'Tammy Cruz', 'birth_year': 1782}}\n",
      "{'_id': 42, 'title': 'Break long letter', 'author_id': 115, 'genre': 'Science Fiction', 'author_details': {'_id': 115, 'name': 'Jessica Gonzales', 'birth_year': 1992}}\n",
      "{'_id': 43, 'title': 'Tree let Republican', 'author_id': 160, 'genre': 'Fantasy', 'author_details': {'_id': 160, 'name': 'Brian Turner', 'birth_year': 1970}}\n",
      "{'_id': 44, 'title': 'Floor they', 'author_id': 166, 'genre': 'Thriller', 'author_details': {'_id': 166, 'name': 'Jessica Hayes', 'birth_year': 1907}}\n",
      "{'_id': 45, 'title': 'Step certainly beat professional', 'author_id': 191, 'genre': 'Science Fiction', 'author_details': {'_id': 191, 'name': 'Johnathan Valencia', 'birth_year': 1845}}\n",
      "{'_id': 46, 'title': 'Most son sure', 'author_id': 196, 'genre': 'Mystery', 'author_details': {'_id': 196, 'name': 'Kelly Faulkner', 'birth_year': 1722}}\n",
      "{'_id': 47, 'title': 'Around treat', 'author_id': 137, 'genre': 'Fantasy', 'author_details': {'_id': 137, 'name': 'Maria Mccarthy', 'birth_year': 1761}}\n",
      "{'_id': 48, 'title': 'Understand record', 'author_id': 199, 'genre': 'Science Fiction', 'author_details': {'_id': 199, 'name': 'Danielle Hartman', 'birth_year': 1785}}\n",
      "{'_id': 49, 'title': 'Husband also role', 'author_id': 155, 'genre': 'Classic', 'author_details': {'_id': 155, 'name': 'Raymond Levy', 'birth_year': 1780}}\n",
      "{'_id': 50, 'title': 'Exist reveal direction', 'author_id': 179, 'genre': 'Dystopian', 'author_details': {'_id': 179, 'name': 'Pamela Richard', 'birth_year': 1830}}\n",
      "{'_id': 51, 'title': 'Project', 'author_id': 159, 'genre': 'Romance', 'author_details': {'_id': 159, 'name': 'David Brown', 'birth_year': 1812}}\n",
      "{'_id': 52, 'title': 'Next', 'author_id': 131, 'genre': 'Fantasy', 'author_details': {'_id': 131, 'name': 'Jeffrey Trujillo', 'birth_year': 1735}}\n",
      "{'_id': 53, 'title': 'Candidate event', 'author_id': 171, 'genre': 'Dystopian', 'author_details': {'_id': 171, 'name': 'Patricia Parks', 'birth_year': 1747}}\n",
      "{'_id': 54, 'title': 'Someone page', 'author_id': 155, 'genre': 'Thriller', 'author_details': {'_id': 155, 'name': 'Raymond Levy', 'birth_year': 1780}}\n",
      "{'_id': 55, 'title': 'Tend good doctor', 'author_id': 171, 'genre': 'Dystopian', 'author_details': {'_id': 171, 'name': 'Patricia Parks', 'birth_year': 1747}}\n",
      "{'_id': 56, 'title': 'Speech vote', 'author_id': 194, 'genre': 'Thriller', 'author_details': {'_id': 194, 'name': 'Elizabeth Jackson', 'birth_year': 1866}}\n",
      "{'_id': 57, 'title': 'Tell miss common', 'author_id': 106, 'genre': 'Thriller', 'author_details': {'_id': 106, 'name': 'Ashley Coleman', 'birth_year': 1706}}\n",
      "{'_id': 58, 'title': 'Party see glass', 'author_id': 125, 'genre': 'Classic', 'author_details': {'_id': 125, 'name': 'Jeffery Baldwin', 'birth_year': 1778}}\n",
      "{'_id': 59, 'title': 'Ground experience really', 'author_id': 106, 'genre': 'Mystery', 'author_details': {'_id': 106, 'name': 'Ashley Coleman', 'birth_year': 1706}}\n",
      "{'_id': 60, 'title': 'Center list', 'author_id': 185, 'genre': 'Science Fiction', 'author_details': {'_id': 185, 'name': 'Oscar Woods', 'birth_year': 1981}}\n",
      "{'_id': 61, 'title': 'Push others figure', 'author_id': 165, 'genre': 'Fantasy', 'author_details': {'_id': 165, 'name': 'Nicholas Burgess', 'birth_year': 1786}}\n",
      "{'_id': 62, 'title': 'Great human next', 'author_id': 149, 'genre': 'Fantasy', 'author_details': {'_id': 149, 'name': 'Cynthia Fernandez', 'birth_year': 1923}}\n",
      "{'_id': 63, 'title': 'Accept enough form', 'author_id': 144, 'genre': 'Mystery', 'author_details': {'_id': 144, 'name': 'Shelley Pham', 'birth_year': 1706}}\n",
      "{'_id': 64, 'title': 'Easy firm perhaps', 'author_id': 142, 'genre': 'Romance', 'author_details': {'_id': 142, 'name': 'Colleen Fowler', 'birth_year': 1836}}\n",
      "{'_id': 65, 'title': 'Writer knowledge', 'author_id': 143, 'genre': 'Classic', 'author_details': {'_id': 143, 'name': 'Carmen Cole', 'birth_year': 1817}}\n",
      "{'_id': 66, 'title': 'Nation down', 'author_id': 192, 'genre': 'Mystery', 'author_details': {'_id': 192, 'name': 'Kimberly Hernandez', 'birth_year': 1985}}\n",
      "{'_id': 67, 'title': 'Weight hour', 'author_id': 134, 'genre': 'Dystopian', 'author_details': {'_id': 134, 'name': 'William Burns', 'birth_year': 1937}}\n",
      "{'_id': 68, 'title': 'Production democratic computer', 'author_id': 195, 'genre': 'Dystopian', 'author_details': {'_id': 195, 'name': 'Shawn Miles', 'birth_year': 1730}}\n",
      "{'_id': 69, 'title': 'Adult professional nature', 'author_id': 118, 'genre': 'Dystopian', 'author_details': {'_id': 118, 'name': 'Kim Nelson', 'birth_year': 1860}}\n",
      "{'_id': 70, 'title': 'Anyone series', 'author_id': 140, 'genre': 'Science Fiction', 'author_details': {'_id': 140, 'name': 'Michelle Rice', 'birth_year': 1749}}\n",
      "{'_id': 71, 'title': 'Full coach night', 'author_id': 160, 'genre': 'Mystery', 'author_details': {'_id': 160, 'name': 'Brian Turner', 'birth_year': 1970}}\n",
      "{'_id': 72, 'title': 'Energy crime growth', 'author_id': 116, 'genre': 'Dystopian', 'author_details': {'_id': 116, 'name': 'Michael Lawrence', 'birth_year': 1912}}\n",
      "{'_id': 73, 'title': 'Always nature become', 'author_id': 122, 'genre': 'Romance', 'author_details': {'_id': 122, 'name': 'Dr. Kenneth Parker', 'birth_year': 1820}}\n",
      "{'_id': 74, 'title': 'Continue evidence real leave', 'author_id': 157, 'genre': 'Dystopian', 'author_details': {'_id': 157, 'name': 'Robert Mcdaniel', 'birth_year': 1809}}\n",
      "{'_id': 75, 'title': 'These share', 'author_id': 144, 'genre': 'Mystery', 'author_details': {'_id': 144, 'name': 'Shelley Pham', 'birth_year': 1706}}\n",
      "{'_id': 76, 'title': 'Over', 'author_id': 136, 'genre': 'Dystopian', 'author_details': {'_id': 136, 'name': 'Eric Gregory IV', 'birth_year': 1854}}\n",
      "{'_id': 77, 'title': 'Take director', 'author_id': 141, 'genre': 'Dystopian', 'author_details': {'_id': 141, 'name': 'Alejandro Bruce', 'birth_year': 1730}}\n",
      "{'_id': 78, 'title': 'Popular another', 'author_id': 115, 'genre': 'Mystery', 'author_details': {'_id': 115, 'name': 'Jessica Gonzales', 'birth_year': 1992}}\n",
      "{'_id': 79, 'title': 'Size hold yard', 'author_id': 155, 'genre': 'Fantasy', 'author_details': {'_id': 155, 'name': 'Raymond Levy', 'birth_year': 1780}}\n",
      "{'_id': 80, 'title': 'Tonight edge middle', 'author_id': 131, 'genre': 'Thriller', 'author_details': {'_id': 131, 'name': 'Jeffrey Trujillo', 'birth_year': 1735}}\n",
      "{'_id': 81, 'title': 'Sometimes so', 'author_id': 119, 'genre': 'Classic', 'author_details': {'_id': 119, 'name': 'Dr. Frank Flowers', 'birth_year': 1706}}\n",
      "{'_id': 82, 'title': 'Understand bit during', 'author_id': 138, 'genre': 'Fantasy', 'author_details': {'_id': 138, 'name': 'Sabrina Davis', 'birth_year': 1985}}\n",
      "{'_id': 83, 'title': 'Action including because', 'author_id': 110, 'genre': 'Classic', 'author_details': {'_id': 110, 'name': 'Patricia Campbell', 'birth_year': 1759}}\n",
      "{'_id': 84, 'title': 'To else simply', 'author_id': 115, 'genre': 'Dystopian', 'author_details': {'_id': 115, 'name': 'Jessica Gonzales', 'birth_year': 1992}}\n",
      "{'_id': 85, 'title': 'Ahead shake above', 'author_id': 150, 'genre': 'Dystopian', 'author_details': {'_id': 150, 'name': 'Donna Lee', 'birth_year': 1818}}\n",
      "{'_id': 86, 'title': 'No hit wish', 'author_id': 170, 'genre': 'Dystopian', 'author_details': {'_id': 170, 'name': 'Mathew White', 'birth_year': 1836}}\n",
      "{'_id': 87, 'title': 'Despite hair right', 'author_id': 102, 'genre': 'Mystery', 'author_details': {'_id': 102, 'name': 'Cameron Clark', 'birth_year': 1925}}\n",
      "{'_id': 88, 'title': 'Accept record', 'author_id': 134, 'genre': 'Science Fiction', 'author_details': {'_id': 134, 'name': 'William Burns', 'birth_year': 1937}}\n",
      "{'_id': 89, 'title': 'Technology address', 'author_id': 199, 'genre': 'Dystopian', 'author_details': {'_id': 199, 'name': 'Danielle Hartman', 'birth_year': 1785}}\n",
      "{'_id': 90, 'title': 'Individual', 'author_id': 134, 'genre': 'Romance', 'author_details': {'_id': 134, 'name': 'William Burns', 'birth_year': 1937}}\n",
      "{'_id': 91, 'title': 'Sort our', 'author_id': 185, 'genre': 'Science Fiction', 'author_details': {'_id': 185, 'name': 'Oscar Woods', 'birth_year': 1981}}\n",
      "{'_id': 92, 'title': 'Leg identify', 'author_id': 152, 'genre': 'Science Fiction', 'author_details': {'_id': 152, 'name': 'Sheena Oconnor', 'birth_year': 1899}}\n",
      "{'_id': 93, 'title': 'Fish foreign artist', 'author_id': 168, 'genre': 'Dystopian', 'author_details': {'_id': 168, 'name': 'John Miller', 'birth_year': 1850}}\n",
      "{'_id': 94, 'title': 'Skill behavior', 'author_id': 184, 'genre': 'Thriller', 'author_details': {'_id': 184, 'name': 'Steven Hale', 'birth_year': 1894}}\n",
      "{'_id': 95, 'title': 'Relate respond open', 'author_id': 162, 'genre': 'Thriller', 'author_details': {'_id': 162, 'name': 'Joseph Carter', 'birth_year': 1828}}\n",
      "{'_id': 96, 'title': 'Everybody forget', 'author_id': 143, 'genre': 'Romance', 'author_details': {'_id': 143, 'name': 'Carmen Cole', 'birth_year': 1817}}\n",
      "{'_id': 97, 'title': 'Head quickly', 'author_id': 188, 'genre': 'Mystery', 'author_details': {'_id': 188, 'name': 'Angela Williams', 'birth_year': 1740}}\n",
      "{'_id': 98, 'title': 'Dinner impact dinner', 'author_id': 162, 'genre': 'Fantasy', 'author_details': {'_id': 162, 'name': 'Joseph Carter', 'birth_year': 1828}}\n",
      "{'_id': 99, 'title': 'Marriage hair design', 'author_id': 112, 'genre': 'Romance', 'author_details': {'_id': 112, 'name': 'Heather Crawford', 'birth_year': 1711}}\n",
      "{'_id': 100, 'title': 'Green feeling', 'author_id': 144, 'genre': 'Classic', 'author_details': {'_id': 144, 'name': 'Shelley Pham', 'birth_year': 1706}}\n"
     ]
    }
   ],
   "source": [
    "pipeline=[\n",
    "    {\n",
    "        '$lookup':{\n",
    "            'from':'authors',\n",
    "            'localField':'author_id',\n",
    "            'foreignField':'_id',\n",
    "            'as':'author_details'\n",
    "        }\n",
    "    },\n",
    "    {\n",
    "        '$addFields':{'author_details':{'$arrayElemAt':['$author_details',0]}}\n",
    "    }\n",
    "]\n",
    "\n",
    "collection=db['books']\n",
    "result=collection.aggregate(pipeline)\n",
    "for r in result:\n",
    "    print(r)\n"
   ]
  },
  {
   "cell_type": "code",
   "execution_count": null,
   "metadata": {},
   "outputs": [],
   "source": []
  }
 ],
 "metadata": {
  "kernelspec": {
   "display_name": "tf",
   "language": "python",
   "name": "tf"
  },
  "language_info": {
   "codemirror_mode": {
    "name": "ipython",
    "version": 3
   },
   "file_extension": ".py",
   "mimetype": "text/x-python",
   "name": "python",
   "nbconvert_exporter": "python",
   "pygments_lexer": "ipython3",
   "version": "3.9.18"
  }
 },
 "nbformat": 4,
 "nbformat_minor": 2
}
