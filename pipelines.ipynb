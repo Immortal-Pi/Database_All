{
 "cells": [
  {
   "cell_type": "markdown",
   "metadata": {},
   "source": [
    "# create pipelines and aggregate function"
   ]
  },
  {
   "cell_type": "code",
   "execution_count": 8,
   "metadata": {},
   "outputs": [],
   "source": [
    "import pymongo\n",
    "from datetime import datetime\n",
    "import json"
   ]
  },
  {
   "cell_type": "markdown",
   "metadata": {},
   "source": [
    "# insert data "
   ]
  },
  {
   "cell_type": "code",
   "execution_count": 3,
   "metadata": {},
   "outputs": [],
   "source": [
    "client=pymongo.MongoClient('localhost',27017)\n"
   ]
  },
  {
   "cell_type": "code",
   "execution_count": null,
   "metadata": {},
   "outputs": [
    {
     "data": {
      "text/plain": [
       "InsertManyResult([1, 2, 3, 4, 5, 6, 7, 8, 9, 10, 11, 12, 13, 14, 15, 16, 17, 18, 19, 20, 21, 22, 23, 24, 25, 26, 27, 28, 29, 30, 31, 32, 33, 34, 35, 36, 37, 38, 39, 40, 41, 42, 43, 44, 45, 46, 47, 48, 49, 50, 51, 52, 53, 54, 55, 56, 57, 58, 59, 60, 61, 62, 63, 64, 65, 66, 67, 68, 69, 70, 71, 72, 73, 74, 75, 76, 77, 78, 79, 80, 81, 82, 83, 84, 85, 86, 87, 88, 89, 90, 91, 92, 93, 94, 95, 96, 97, 98, 99, 100], acknowledged=True)"
      ]
     },
     "execution_count": 13,
     "metadata": {},
     "output_type": "execute_result"
    }
   ],
   "source": [
    "# load data to database\n",
    "db=client['library']\n",
    "collection=db['authors']\n",
    "\n",
    "with open('data/authors.json','r') as f:\n",
    "    file=json.load(f)\n",
    "collection.insert_many(file)\n",
    "\n"
   ]
  },
  {
   "cell_type": "code",
   "execution_count": 14,
   "metadata": {},
   "outputs": [
    {
     "data": {
      "text/plain": [
       "InsertManyResult([1, 2, 3, 4, 5, 6, 7, 8, 9, 10, 11, 12, 13, 14, 15, 16, 17, 18, 19, 20, 21, 22, 23, 24, 25, 26, 27, 28, 29, 30, 31, 32, 33, 34, 35, 36, 37, 38, 39, 40, 41, 42, 43, 44, 45, 46, 47, 48, 49, 50, 51, 52, 53, 54, 55, 56, 57, 58, 59, 60, 61, 62, 63, 64, 65, 66, 67, 68, 69, 70, 71, 72, 73, 74, 75, 76, 77, 78, 79, 80, 81, 82, 83, 84, 85, 86, 87, 88, 89, 90, 91, 92, 93, 94, 95, 96, 97, 98, 99, 100], acknowledged=True)"
      ]
     },
     "execution_count": 14,
     "metadata": {},
     "output_type": "execute_result"
    }
   ],
   "source": [
    "collection=db['users']\n",
    "\n",
    "with open('data/users.json','r') as f:\n",
    "    file=json.load(f)\n",
    "collection.insert_many(file)\n",
    "\n",
    "collection=db['books']\n",
    "\n",
    "with open('data/books.json','r') as f:\n",
    "    file=json.load(f)\n",
    "collection.insert_many(file)"
   ]
  },
  {
   "cell_type": "markdown",
   "metadata": {},
   "source": [
    "# pipeline\n",
    "[\n",
    "    \n",
    "    {}, stage 1 source\n",
    "    \n",
    "    {}, stage 2 \n",
    "]"
   ]
  },
  {
   "cell_type": "code",
   "execution_count": 32,
   "metadata": {},
   "outputs": [
    {
     "name": "stdout",
     "output_type": "stream",
     "text": [
      "{'_id': False, 'count isActive': 50}\n"
     ]
    }
   ],
   "source": [
    "# how many uses are active\n",
    "collection=db['users']\n",
    "pipeline=[\n",
    "    {'$match':{'gender':'female'}},\n",
    "    {'$group':{'_id':'$isActive','count isActive':{'$sum':1}}}\n",
    "]\n",
    "\n",
    "result=collection.aggregate(pipeline)\n",
    "for data in result:\n",
    "    print(data)"
   ]
  },
  {
   "cell_type": "code",
   "execution_count": null,
   "metadata": {},
   "outputs": [
    {
     "name": "stdout",
     "output_type": "stream",
     "text": [
      "{'_id': 'female', 'averageAge': 70.0}\n",
      "{'_id': 'male', 'averageAge': 71.0}\n"
     ]
    }
   ],
   "source": [
    "#what is the average age of all users/gender\n",
    "collection=db['users']\n",
    "pipeline=[\n",
    "    {'$group':{'_id':'$gender','averageAge':{'$avg':'$age'}}}\n",
    "\n",
    "]\n",
    "result=collection.aggregate(pipeline)\n",
    "for r in result:\n",
    "    print(r)"
   ]
  },
  {
   "cell_type": "code",
   "execution_count": null,
   "metadata": {},
   "outputs": [
    {
     "name": "stdout",
     "output_type": "stream",
     "text": [
      "{'_id': 'banana', 'count': 20}\n",
      "{'_id': 'pineapple', 'count': 20}\n"
     ]
    }
   ],
   "source": [
    "# list the top 2 common favorute fruits among users\n",
    "pipeline=[\n",
    "    {'$group':{'_id':'$favoriteFruit','count':{'$sum':1}}},\n",
    "    {'$sort':{'count':-1}},\n",
    "    {'$limit':2}\n",
    "]\n",
    "result=collection.aggregate(pipeline)\n",
    "for r in result:\n",
    "    print(r)"
   ]
  },
  {
   "cell_type": "code",
   "execution_count": 57,
   "metadata": {},
   "outputs": [
    {
     "name": "stdout",
     "output_type": "stream",
     "text": [
      "{'_id': 'female', 'count': 50}\n",
      "{'_id': 'male', 'count': 50}\n"
     ]
    }
   ],
   "source": [
    "# find the total number of males and females \n",
    "pipeline=[\n",
    "    {'$group':{'_id':'$gender','count':{'$sum':1}}}\n",
    "]\n",
    "result=collection.aggregate(pipeline)\n",
    "for r in result:\n",
    "    print(r)"
   ]
  },
  {
   "cell_type": "code",
   "execution_count": null,
   "metadata": {},
   "outputs": [
    {
     "name": "stdout",
     "output_type": "stream",
     "text": [
      "{'gender': 1}\n"
     ]
    }
   ],
   "source": [
    "# which country has the highest number of registered user \n"
   ]
  },
  {
   "cell_type": "code",
   "execution_count": null,
   "metadata": {},
   "outputs": [
    {
     "name": "stdout",
     "output_type": "stream",
     "text": [
      "{'_id': 'USA', 'user_count': 100}\n"
     ]
    }
   ],
   "source": [
    "pipeline=[\n",
    "    {'$group':{'_id':'$company.location.country','user_count':{'$sum':1}}},\n",
    "    {'$sort':{'user_count':-1}},\n",
    "    {'$limit':1}\n",
    "]\n",
    "result=collection.aggregate(pipeline)\n",
    "for r in result:\n",
    "    print(r)"
   ]
  },
  {
   "cell_type": "code",
   "execution_count": null,
   "metadata": {},
   "outputs": [],
   "source": []
  }
 ],
 "metadata": {
  "kernelspec": {
   "display_name": "tf",
   "language": "python",
   "name": "tf"
  },
  "language_info": {
   "codemirror_mode": {
    "name": "ipython",
    "version": 3
   },
   "file_extension": ".py",
   "mimetype": "text/x-python",
   "name": "python",
   "nbconvert_exporter": "python",
   "pygments_lexer": "ipython3",
   "version": "3.9.18"
  }
 },
 "nbformat": 4,
 "nbformat_minor": 2
}
